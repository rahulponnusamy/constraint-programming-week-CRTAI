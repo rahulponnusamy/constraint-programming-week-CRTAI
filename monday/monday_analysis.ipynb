{
 "cells": [
  {
   "cell_type": "code",
   "execution_count": 1,
   "metadata": {},
   "outputs": [],
   "source": [
    "import json\n",
    "import os "
   ]
  },
  {
   "cell_type": "code",
   "execution_count": 2,
   "metadata": {},
   "outputs": [],
   "source": [
    "f = open(\"monday.json\")\n",
    "data = json.load(f)"
   ]
  },
  {
   "cell_type": "code",
   "execution_count": 32,
   "metadata": {},
   "outputs": [],
   "source": [
    "minizinc_out = [1, 1, 1, 3, 12, 13, 13, 1, 1, 1, 2, 3, 3, 14, 15, 6, 6, 6, 6, 10, 10, 4, 5, 16, 16, 15, 16, 16, 16, 11, 11, 11, 11, 3, 3, 6, 7, 7, 11, 8, 8, 8, 8, 8, 8, 9, 14, 14, 14, 14, 14, 12, 13, 13, 7, 9, 9, 9, 10, 2, 2, 9, 2, 2, 6, 7, 6, 6, 7, 7, 7, 10, 11, 13, 14, 9, 16, 16, 16, 7, 10, 10, 10, 5, 5, 8, 8, 12, 12, 12, 12, 12, 12, 4, 4, 4, 4, 10, 13, 13, 13, 5, 8, 5, 5, 9, 14, 4, 4, 4, 2, 2, 15, 9, 9, 15, 15, 15, 15, 15, 15, 2, 2, 3, 11, 11, 1, 1, 1, 3, 5, 5, 3, 3]"
   ]
  },
  {
   "cell_type": "code",
   "execution_count": 33,
   "metadata": {},
   "outputs": [
    {
     "data": {
      "text/plain": [
       "134"
      ]
     },
     "execution_count": 33,
     "metadata": {},
     "output_type": "execute_result"
    }
   ],
   "source": [
    "len(data[\"activity\"])"
   ]
  },
  {
   "cell_type": "code",
   "execution_count": 34,
   "metadata": {},
   "outputs": [
    {
     "data": {
      "text/plain": [
       "['Track',\n",
       " 'Long Throws',\n",
       " 'High Jump',\n",
       " 'Long Jump',\n",
       " 'Shot Put',\n",
       " 'Triple Jump',\n",
       " 'Pole Vault']"
      ]
     },
     "execution_count": 34,
     "metadata": {},
     "output_type": "execute_result"
    }
   ],
   "source": [
    "data[\"resources\"]"
   ]
  },
  {
   "cell_type": "code",
   "execution_count": 35,
   "metadata": {},
   "outputs": [],
   "source": [
    "session_dict = {i:{i: 0 for i in data[\"resources\"]} for  i in range(1, 17)}\n"
   ]
  },
  {
   "cell_type": "code",
   "execution_count": 36,
   "metadata": {},
   "outputs": [],
   "source": [
    "import pprint"
   ]
  },
  {
   "cell_type": "code",
   "execution_count": 37,
   "metadata": {},
   "outputs": [
    {
     "name": "stdout",
     "output_type": "stream",
     "text": [
      "{1: {'High Jump': 0,\n",
      "     'Long Jump': 148,\n",
      "     'Long Throws': 0,\n",
      "     'Pole Vault': 140,\n",
      "     'Shot Put': 0,\n",
      "     'Track': 117,\n",
      "     'Triple Jump': 0},\n",
      " 2: {'High Jump': 235,\n",
      "     'Long Jump': 136,\n",
      "     'Long Throws': 224,\n",
      "     'Pole Vault': 0,\n",
      "     'Shot Put': 0,\n",
      "     'Track': 1,\n",
      "     'Triple Jump': 0},\n",
      " 3: {'High Jump': 0,\n",
      "     'Long Jump': 0,\n",
      "     'Long Throws': 56,\n",
      "     'Pole Vault': 195,\n",
      "     'Shot Put': 0,\n",
      "     'Track': 116,\n",
      "     'Triple Jump': 141},\n",
      " 4: {'High Jump': 0,\n",
      "     'Long Jump': 0,\n",
      "     'Long Throws': 174,\n",
      "     'Pole Vault': 0,\n",
      "     'Shot Put': 0,\n",
      "     'Track': 94,\n",
      "     'Triple Jump': 0},\n",
      " 5: {'High Jump': 0,\n",
      "     'Long Jump': 0,\n",
      "     'Long Throws': 0,\n",
      "     'Pole Vault': 0,\n",
      "     'Shot Put': 126,\n",
      "     'Track': 179,\n",
      "     'Triple Jump': 0},\n",
      " 6: {'High Jump': 0,\n",
      "     'Long Jump': 0,\n",
      "     'Long Throws': 0,\n",
      "     'Pole Vault': 140,\n",
      "     'Shot Put': 118,\n",
      "     'Track': 121,\n",
      "     'Triple Jump': 0},\n",
      " 7: {'High Jump': 0,\n",
      "     'Long Jump': 0,\n",
      "     'Long Throws': 56,\n",
      "     'Pole Vault': 147,\n",
      "     'Shot Put': 0,\n",
      "     'Track': 111,\n",
      "     'Triple Jump': 149},\n",
      " 8: {'High Jump': 130,\n",
      "     'Long Jump': 42,\n",
      "     'Long Throws': 0,\n",
      "     'Pole Vault': 0,\n",
      "     'Shot Put': 42,\n",
      "     'Track': 84,\n",
      "     'Triple Jump': 0},\n",
      " 9: {'High Jump': 234,\n",
      "     'Long Jump': 0,\n",
      "     'Long Throws': 232,\n",
      "     'Pole Vault': 0,\n",
      "     'Shot Put': 0,\n",
      "     'Track': 72,\n",
      "     'Triple Jump': 0},\n",
      " 10: {'High Jump': 113,\n",
      "      'Long Jump': 0,\n",
      "      'Long Throws': 0,\n",
      "      'Pole Vault': 0,\n",
      "      'Shot Put': 0,\n",
      "      'Track': 143,\n",
      "      'Triple Jump': 0},\n",
      " 11: {'High Jump': 0,\n",
      "      'Long Jump': 0,\n",
      "      'Long Throws': 134,\n",
      "      'Pole Vault': 0,\n",
      "      'Shot Put': 0,\n",
      "      'Track': 119,\n",
      "      'Triple Jump': 0},\n",
      " 12: {'High Jump': 0,\n",
      "      'Long Jump': 0,\n",
      "      'Long Throws': 56,\n",
      "      'Pole Vault': 0,\n",
      "      'Shot Put': 0,\n",
      "      'Track': 130,\n",
      "      'Triple Jump': 0},\n",
      " 13: {'High Jump': 0,\n",
      "      'Long Jump': 0,\n",
      "      'Long Throws': 126,\n",
      "      'Pole Vault': 0,\n",
      "      'Shot Put': 0,\n",
      "      'Track': 74,\n",
      "      'Triple Jump': 0},\n",
      " 14: {'High Jump': 0,\n",
      "      'Long Jump': 0,\n",
      "      'Long Throws': 108,\n",
      "      'Pole Vault': 136,\n",
      "      'Shot Put': 0,\n",
      "      'Track': 22,\n",
      "      'Triple Jump': 0},\n",
      " 15: {'High Jump': 0,\n",
      "      'Long Jump': 42,\n",
      "      'Long Throws': 154,\n",
      "      'Pole Vault': 0,\n",
      "      'Shot Put': 42,\n",
      "      'Track': 80,\n",
      "      'Triple Jump': 0},\n",
      " 16: {'High Jump': 0,\n",
      "      'Long Jump': 0,\n",
      "      'Long Throws': 0,\n",
      "      'Pole Vault': 0,\n",
      "      'Shot Put': 0,\n",
      "      'Track': 95,\n",
      "      'Triple Jump': 0}}\n"
     ]
    }
   ],
   "source": [
    "# check constraint one\n",
    "for index, value in enumerate(minizinc_out):\n",
    "    # get the value of the duration\n",
    "    duration = data[\"activity\"][index][\"duration\"]\n",
    "    # print(duration)\n",
    "    resource_x = data[\"activity\"][index][\"resource\"]\n",
    "    # print(resource_x)\n",
    "    session_dict[value][resource_x] += duration\n",
    "\n",
    "# print(session_dict)\n",
    "pprint.pprint(session_dict, compact=True)"
   ]
  },
  {
   "cell_type": "code",
   "execution_count": 38,
   "metadata": {},
   "outputs": [
    {
     "name": "stdout",
     "output_type": "stream",
     "text": [
      "passed 2nd constraint\n",
      "passed 2nd constraint\n",
      "passed 2nd constraint\n",
      "passed 2nd constraint\n",
      "passed 2nd constraint\n",
      "passed 2nd constraint\n",
      "passed 2nd constraint\n",
      "passed 2nd constraint\n",
      "passed 2nd constraint\n",
      "passed 2nd constraint\n",
      "passed 2nd constraint\n",
      "passed 2nd constraint\n",
      "passed 2nd constraint\n",
      "passed 2nd constraint\n",
      "passed 2nd constraint\n",
      "passed 2nd constraint\n",
      "passed 2nd constraint\n",
      "passed 2nd constraint\n",
      "passed 2nd constraint\n",
      "passed 2nd constraint\n",
      "passed 2nd constraint\n",
      "passed 2nd constraint\n",
      "passed 2nd constraint\n",
      "passed 2nd constraint\n",
      "passed 2nd constraint\n",
      "passed 2nd constraint\n",
      "passed 2nd constraint\n",
      "passed 2nd constraint\n",
      "passed 2nd constraint\n",
      "passed 2nd constraint\n",
      "passed 2nd constraint\n",
      "passed 2nd constraint\n",
      "passed 2nd constraint\n",
      "passed 2nd constraint\n",
      "passed 2nd constraint\n",
      "passed 2nd constraint\n",
      "passed 2nd constraint\n",
      "passed 2nd constraint\n",
      "passed 2nd constraint\n",
      "passed 2nd constraint\n",
      "passed 2nd constraint\n",
      "passed 2nd constraint\n",
      "passed 2nd constraint\n",
      "passed 2nd constraint\n",
      "passed 2nd constraint\n",
      "passed 2nd constraint\n",
      "passed 2nd constraint\n",
      "passed 2nd constraint\n",
      "passed 2nd constraint\n",
      "passed 2nd constraint\n",
      "passed 2nd constraint\n",
      "passed 2nd constraint\n",
      "passed 2nd constraint\n",
      "passed 2nd constraint\n",
      "passed 2nd constraint\n",
      "passed 2nd constraint\n",
      "passed 2nd constraint\n",
      "passed 2nd constraint\n",
      "passed 2nd constraint\n",
      "passed 2nd constraint\n",
      "passed 2nd constraint\n",
      "passed 2nd constraint\n",
      "passed 2nd constraint\n",
      "passed 2nd constraint\n",
      "passed 2nd constraint\n",
      "passed 2nd constraint\n",
      "passed 2nd constraint\n",
      "passed 2nd constraint\n",
      "passed 2nd constraint\n",
      "passed 2nd constraint\n",
      "passed 2nd constraint\n",
      "passed 2nd constraint\n",
      "passed 2nd constraint\n",
      "passed 2nd constraint\n",
      "passed 2nd constraint\n",
      "passed 2nd constraint\n",
      "passed 2nd constraint\n",
      "passed 2nd constraint\n",
      "passed 2nd constraint\n",
      "passed 2nd constraint\n",
      "passed 2nd constraint\n",
      "passed 2nd constraint\n",
      "passed 2nd constraint\n",
      "passed 2nd constraint\n",
      "passed 2nd constraint\n",
      "passed 2nd constraint\n",
      "passed 2nd constraint\n",
      "passed 2nd constraint\n",
      "passed 2nd constraint\n",
      "passed 2nd constraint\n",
      "passed 2nd constraint\n"
     ]
    }
   ],
   "source": [
    "# check constraint two\n",
    "for index in range(len(minizinc_out)-1):\n",
    "    if  data[\"activity\"][index][\"event\"] == data[\"activity\"][index + 1][\"event\"]:\n",
    "        if data[\"activity\"][index][\"stageNr\"] < data[\"activity\"][index + 1][\"stageNr\"]:\n",
    "            if minizinc_out[index] <= minizinc_out[index + 1]:\n",
    "                print(\"passed 2nd constraint\")\n",
    "            else:\n",
    "                print(\"Failed: \" )\n",
    "                print(data[\"activity\"][index])\n",
    "                print(data[\"activity\"][index + 1])\n",
    "                print(\"--\"*10)\n",
    "\n",
    "\n",
    "# print(session_dict)\n",
    "# pprint.pprint(session_dict, compact=True)"
   ]
  },
  {
   "cell_type": "code",
   "execution_count": 39,
   "metadata": {},
   "outputs": [
    {
     "name": "stdout",
     "output_type": "stream",
     "text": [
      "{1: 9,\n",
      " 2: 9,\n",
      " 3: 9,\n",
      " 4: 8,\n",
      " 5: 8,\n",
      " 6: 8,\n",
      " 7: 8,\n",
      " 8: 9,\n",
      " 9: 9,\n",
      " 10: 8,\n",
      " 11: 8,\n",
      " 12: 8,\n",
      " 13: 8,\n",
      " 14: 8,\n",
      " 15: 9,\n",
      " 16: 8}\n"
     ]
    }
   ],
   "source": [
    "# check 3rd constraints\n",
    "\n",
    "session_balance_dict = {i:0 for  i in range(1, 17)}\n",
    "# check constraint one\n",
    "for index, value in enumerate(minizinc_out):\n",
    "    session_balance_dict[value] += 1\n",
    "\n",
    "# print(session_dict)\n",
    "pprint.pprint(session_balance_dict, compact=True)\n",
    "\n",
    "\n"
   ]
  },
  {
   "cell_type": "code",
   "execution_count": 40,
   "metadata": {},
   "outputs": [
    {
     "name": "stdout",
     "output_type": "stream",
     "text": [
      "{1: 3,\n",
      " 2: 3,\n",
      " 3: 3,\n",
      " 4: 2,\n",
      " 5: 2,\n",
      " 6: 2,\n",
      " 7: 3,\n",
      " 8: 2,\n",
      " 9: 2,\n",
      " 10: 3,\n",
      " 11: 3,\n",
      " 12: 3,\n",
      " 13: 3,\n",
      " 14: 3,\n",
      " 15: 3,\n",
      " 16: 3}\n"
     ]
    }
   ],
   "source": [
    "# check 3rd constraints\n",
    "\n",
    "session_finals_dict = {i:0 for  i in range(1, 17)}\n",
    "# check constraint one\n",
    "for index, value in enumerate(minizinc_out):\n",
    "    finals =  data[\"activity\"][index][\"finals\"]\n",
    "    session_finals_dict[value] += finals\n",
    "\n",
    "# print(session_dict)\n",
    "pprint.pprint(session_finals_dict, compact=True)\n"
   ]
  }
 ],
 "metadata": {
  "kernelspec": {
   "display_name": "Python 3",
   "language": "python",
   "name": "python3"
  },
  "language_info": {
   "codemirror_mode": {
    "name": "ipython",
    "version": 3
   },
   "file_extension": ".py",
   "mimetype": "text/x-python",
   "name": "python",
   "nbconvert_exporter": "python",
   "pygments_lexer": "ipython3",
   "version": "3.9.18"
  }
 },
 "nbformat": 4,
 "nbformat_minor": 2
}
